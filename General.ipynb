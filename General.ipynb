{
 "cells": [
  {
   "cell_type": "markdown",
   "metadata": {},
   "source": [
    "# General "
   ]
  },
  {
   "cell_type": "code",
   "execution_count": null,
   "metadata": {
    "ExecuteTime": {
     "end_time": "2020-04-07T14:15:46.929899Z",
     "start_time": "2020-04-07T14:15:45.489307Z"
    }
   },
   "outputs": [],
   "source": [
    "\"\"\"Package\"\"\"\n",
    "import pandas as pd\n",
    "import Package\n",
    "sys.path.insert(0, \"../\")\n",
    "from Package.reader import *"
   ]
  },
  {
   "cell_type": "markdown",
   "metadata": {},
   "source": [
    "# Instructions\n",
    "\n",
    "For each Reader or path, you have to enter the filepath to the specific datasate you have downloaded.\n",
    "Each file that can be treated with this algorithm is already specified, you just have to completed the different filepaths.\n",
    "\n",
    "All companies are separeted for specific usages but a global dataframe can be obtained and stored as a .pkl file. \n",
    "\n",
    "At the end of this code, the special cases of locations data contained in the datasets are treated.\n",
    "\n",
    "The base case targeted by this code is to give a dataframe with the following entries \n",
    "`(Date, Type, Label, Year, Month, Day, Hour)` but if more informations are needed, change `ALL_INDEX` or `ALL_GENERAL` to True.\n",
    "\n",
    "* `ALL_INDEX` : gives all informations treated by this algorithm for the specific module\n",
    "* `ALL_GENERAL` : gives a dataframe of the following form (Date, Type, Label, Name, Content, Year, Month, Day, Hour) \n",
    "regrouping main informations of each categories \n",
    "\n",
    "Furthermore specific instructions are given all along the code "
   ]
  },
  {
   "cell_type": "markdown",
   "metadata": {},
   "source": [
    "## Swisscom"
   ]
  },
  {
   "cell_type": "code",
   "execution_count": null,
   "metadata": {
    "ExecuteTime": {
     "end_time": "2020-04-07T14:16:59.660060Z",
     "start_time": "2020-04-07T14:16:59.643046Z"
    }
   },
   "outputs": [],
   "source": [
    "from Package.swisscom import SwisscomReader\n",
    "# in swisscom.py you have to enter your combox number to know if a call was a received combox\n",
    "# Communications is the file where all communications sheets downloaded from Swisscom website are \n",
    "swisscom = SwisscomReader('Communications')\n",
    "swisscom.read()\n",
    "swisscom.df"
   ]
  },
  {
   "cell_type": "markdown",
   "metadata": {},
   "source": [
    "## Whatsapp "
   ]
  },
  {
   "cell_type": "code",
   "execution_count": null,
   "metadata": {
    "ExecuteTime": {
     "end_time": "2020-04-07T14:17:00.639103Z",
     "start_time": "2020-04-07T14:17:00.620255Z"
    }
   },
   "outputs": [],
   "source": [
    "from Package.whatsapp import WhatsappReader\n",
    "# Enter path to the file where all the exports are stocked \n",
    "# in whatsapp.py you have to enter your whatsapp pseudo/name if you want to know if a msg has been sent or\n",
    "# received \n",
    "whatsapp = WhatsappReader('WhatsApp_data')\n",
    "whatsapp.read()\n",
    "whatsapp.df"
   ]
  },
  {
   "cell_type": "markdown",
   "metadata": {},
   "source": [
    "## Google"
   ]
  },
  {
   "cell_type": "code",
   "execution_count": null,
   "metadata": {
    "ExecuteTime": {
     "end_time": "2020-04-07T14:17:01.242373Z",
     "start_time": "2020-04-07T14:17:01.217344Z"
    }
   },
   "outputs": [],
   "source": [
    "from Package.google_sub_readers.browser_history import GoogleBrowserHistoryReader\n",
    "from Package.google_sub_readers.apps import GoogleAppsReader\n",
    "from Package.google_sub_readers.gmail import GmailReader\n",
    "from Package.google_sub_readers.photos import GooglePhotoReader\n",
    "\n",
    "\n",
    "google = ReaderComposite()\n",
    "### Browser History\n",
    "google.add(GoogleBrowserHistoryReader(\"Chrome/BrowserHistory.json\"))\n",
    "\n",
    "### Google Play Store\n",
    "# Google Play Store files has to be renamed manualy to avoid spaces (ex.Google_Play_Store)\n",
    "google.add(GoogleAppsReader('Google_Play_Store/Library.json'))\n",
    "\n",
    "### Gmail\n",
    "# before running this you have to run the proc_gmail_csv contained in gmail.py to get a csv file from the mbox file\n",
    "# in gmail.py you have to enter your mail address in order to know if a mail has been sent or received \n",
    "google.add(GmailReader('mbox.csv'))\n",
    "\n",
    "### Google Photos\n",
    "# the Google Photos file has to be renamed manualy to avoid spaces\n",
    "google.add(GooglePhotoReader('Google_Photos/'))\n",
    "\n",
    "google.read()\n",
    "google.df"
   ]
  },
  {
   "cell_type": "markdown",
   "metadata": {},
   "source": [
    "## Facebook"
   ]
  },
  {
   "cell_type": "code",
   "execution_count": null,
   "metadata": {},
   "outputs": [],
   "source": [
    "from Package.facebook_sub_readers.like_post import FacebookLikePostReader\n",
    "from Package.facebook_sub_readers.sticker_comment import FacebookStickerCommentReader\n",
    "from Package.facebook_sub_readers.like_page import FacebookLikePageReader\n",
    "from Package.facebook_sub_readers.comment_standard import FacebookCommentStandardReader\n",
    "from Package.facebook_sub_readers.comment_without_data import FacebookCommentWithoutDataReader\n",
    "from Package.facebook_sub_readers.pictures_comment import FacebookPicturesCommentReader\n",
    "from Package.facebook_sub_readers.post_standard import FacebookPostStandardReader\n",
    "from Package.facebook_sub_readers.post_media import FacebookPostMediaReader\n",
    "from Package.facebook_sub_readers.post_external_content import FacebookPostExternalContent\n",
    "from Package.facebook_sub_readers.post_text import FacebookPostTextReader\n",
    "from Package.facebook_sub_readers.post_for_sale_item import FacebookPostForSaleItemReader\n",
    "from Package.facebook_sub_readers.post_place import FacebookPostPlaceReader\n",
    "from Package.facebook_sub_readers.friends_post import FacebookFriendsPostReader\n",
    "from Package.facebook_sub_readers.friends import FacebookFriendsReader\n",
    "from Package.facebook_sub_readers.group import FacebookGroupReader\n",
    "from Package.facebook_sub_readers.location import FacebookLocationReader\n",
    "from Package.facebook_sub_readers.search_history import FacebookSearchHistoryReader\n",
    "from Package.facebook_sub_readers.message_standard import FacebookMessageStandardReader\n",
    "from Package.facebook_sub_readers.message_media import FacebookMessageMediaReader\n",
    "from Package.facebook_sub_readers.photo_special import FacebookPhotoSpecialReader\n",
    "from Package.facebook_sub_readers.photo_standard import FacebookPhotoStandardReader\n",
    "from Package.facebook_sub_readers.photo_comment import FacebookPhotoCommentReader\n",
    "\n",
    "facebook = ReaderComposite()\n",
    "### Likes and reactions\n",
    "path_like_post = 'likes_and_reactions/posts_and_comments.json'\n",
    "facebook.add(FacebookLikePostReader(path_like_post))\n",
    "facebook.add(FacebookStickerCommentReader(path_like_post))\n",
    "facebook.add(FacebookLikePageReader('likes_and_reactions/pages.json'))\n",
    "\n",
    "### Comments \n",
    "path_comment = 'comments/comments.json'\n",
    "facebook.add(FacebookCommentStandardReader(path_comment))\n",
    "facebook.add(FacebookCommentWithoutDataReader(path_comment))\n",
    "facebook.add(FacebookPicturesCommentReader(path_comment))\n",
    "\n",
    "### Own Posts\n",
    "path_post = 'posts/your_posts_1.json'\n",
    "facebook.add(FacebookPostStandardReader(path_post))\n",
    "facebook.add(FacebookPostMediaReader(path_post))\n",
    "facebook.add(FacebookPostExternalContent(path_post))\n",
    "facebook.add(FacebookPostTextReader(path_post))\n",
    "facebook.add(FacebookPostForSaleItemReader(path_post))\n",
    "facebook.add(FacebookPostPlaceReader(path_post))\n",
    "\n",
    "### Friends' post \n",
    "facebook.add(FacebookFriendsPostReader('posts/other_peoples_posts_to_your_timeline.json'))\n",
    "\n",
    "### Friends\n",
    "facebook.add(FacebookFriendsReader('friends/friends.json'))\n",
    "facebook.add(FacebookFriendsReader('friends/received_friend_requests.json'))\n",
    "facebook.add(FacebookFriendsReader('friends/rejected_friend_requests.json'))\n",
    "facebook.add(FacebookFriendsReader('friends/removed_friends.json'))\n",
    "facebook.add(FacebookFriendsReader('friends/sent_friend_requests.json'))\n",
    "\n",
    "### Groups\n",
    "facebook.add(FacebookGroupReader('groups/your_group_membership_activity.json'))\n",
    "\n",
    "### Locations \n",
    "facebook.add(FacebookLocationReader('location/location_history.json'))\n",
    "\n",
    "### Search history \n",
    "facebook.add(FacebookSearchHistoryReader('search_history/your_search_history.json'))\n",
    "\n",
    "### Messages \n",
    "# NB: for the message standard Reader you have to change the ME in message_standard.py if you want to know if \n",
    "# a message was sent or received \n",
    "path_inbox = 'messages/inbox/'\n",
    "facebook.add(FacebookMessageStandardReader(path_inbox))\n",
    "facebook.add(FacebookMessageMediaReader(path_inbox))\n",
    "facebook.add(FacebookMessageStandardReader('messages/archived_threads/'))\n",
    "facebook.add(FacebookMessageStandardReader('messages/filtered_threads/'))\n",
    "facebook.add(FacebookMessageStandardReader('messages/message_requests/'))\n",
    "\n",
    "### Photos\n",
    "# NB: for the comment Reader you have to change the ME in photo_comment.py if you want to know if a message was\n",
    "# sent or received \n",
    "facebook.add(FacebookPhotoSpecialReader('photos_and_videos/album/0.json'))\n",
    "\n",
    "path_1 = 'photos_and_videos/album/1.json'\n",
    "facebook.add(FacebookPhotoStandardReader(path_1))\n",
    "facebook.add(FacebookPhotoCommentReader(path_1))\n",
    "\n",
    "path_2 = 'photos_and_videos/album/2.json'\n",
    "facebook.add(FacebookPhotoStandardReader(path_2))\n",
    "facebook.add(FacebookPhotoCommentReader(path_2))\n",
    "\n",
    "path_3 = 'photos_and_videos/album/3.json'\n",
    "facebook.add(FacebookPhotoStandardReader(path_3))\n",
    "facebook.add(FacebookPhotoCommentReader(path_3))\n",
    "\n",
    "path_4 = 'photos_and_videos/album/4.json'\n",
    "facebook.add(FacebookPhotoStandardReader(path_4))\n",
    "facebook.add(FacebookPhotoCommentReader(path_4))\n",
    "\n",
    "facebook.add(FacebookPhotoSpecialReader('photos_and_videos/album/5.json'))\n",
    "facebook.add(FacebookPhotoSpecialReader('photos_and_videos/album/6.json'))\n",
    "facebook.add(FacebookPhotoSpecialReader('photos_and_videos/album/7.json'))\n",
    "facebook.read()\n",
    "facebook.df"
   ]
  },
  {
   "cell_type": "markdown",
   "metadata": {},
   "source": [
    "## Instagram "
   ]
  },
  {
   "cell_type": "code",
   "execution_count": null,
   "metadata": {},
   "outputs": [],
   "source": [
    "from Package.instagram_sub_readers.message import InstagramMessageReader\n",
    "from Package.instagram_sub_readers.like import InstagramLikeReader\n",
    "from Package.instagram_sub_readers.connection import InstagramConnectionReader\n",
    "from Package.instagram_sub_readers.media_story import InstagramStoryReader\n",
    "from Package.instagram_sub_readers.media_photo import InstagramPhotoReader\n",
    "from Package.instagram_sub_readers.media_profile import InstagramProfileReader\n",
    "from Package.instagram_sub_readers.media_direct import InstagramMediaDirectReader\n",
    "from Package.instagram_sub_readers.direct import InstagramDirectReader\n",
    "from Package.instagram_sub_readers.comment import InstagramCommentReader\n",
    "\n",
    "instagram = ReaderComposite()\n",
    "### Messages\n",
    "# You have to enter your instgram username in message.py if you want to know if the message is sent or received\n",
    "instagram.add(InstagramMessageReader('_part_1/messages.json'))\n",
    "\n",
    "###Likes\n",
    "instagram.add(InstagramLikeReader('_part_1/likes.json'))\n",
    "\n",
    "###Connections\n",
    "instagram.add(InstagramConnectionReader('_part_1/connections.json'))\n",
    "\n",
    "###Photos\n",
    "path_media = '_part_2/media.json'\n",
    "instagram.add(InstagramStoryReader(path_media))\n",
    "instagram.add(InstagramPhotoReader(path_media))\n",
    "instagram.add(InstagramProfileReader(path_media))\n",
    "instagram.add(InstagramMediaDirectReader(path_media))\n",
    "instagram.add(InstagramDirectReader('_part_3/media.json'))\n",
    "\n",
    "###Comments\n",
    "# You have to enter your instgram username in comment.py if you want to know if the comment is from you or from \n",
    "# other \n",
    "instagram.add(InstagramCommentReader('_part_1/comments.json'))\n",
    "\n",
    "\n",
    "instagram.read()\n",
    "instagram.df"
   ]
  },
  {
   "cell_type": "markdown",
   "metadata": {},
   "source": [
    "## Snapchat"
   ]
  },
  {
   "cell_type": "code",
   "execution_count": null,
   "metadata": {},
   "outputs": [],
   "source": [
    "from Package.snapchat_sub_readers.chat import SnapchatChatReader\n",
    "from Package.snapchat_sub_readers.location_history import SnapchatLocationHistoryReader\n",
    "from Package.snapchat_sub_readers.location_last_two_years import SnapchatLocationLastTwoYears\n",
    "from Package.snapchat_sub_readers.memory import SnapchatMemoryReader\n",
    "from Package.snapchat_sub_readers.snap import SnapchatSnapReader\n",
    "\n",
    "snapchat = ReaderComposite()\n",
    "### Chat\n",
    "snapchat.add(SnapchatChatReader('json/chat_history.json'))\n",
    "\n",
    "### Locations\n",
    "path_location = 'json/location_history.json'\n",
    "snapchat.add(SnapchatLocationHistoryReader(path_location))\n",
    "snapchat.add(SnapchatLocationLastTwoYears(path_location))\n",
    "\n",
    "###Memories\n",
    "snapchat.add(SnapchatMemoryReader('json/memories_history.json'))\n",
    "\n",
    "###Snaps\n",
    "snapchat.add(SnapchatSnapReader('json/snap_history.json'))\n",
    "\n",
    "snapchat.read()\n",
    "snapchat.df"
   ]
  },
  {
   "cell_type": "markdown",
   "metadata": {},
   "source": [
    "## General"
   ]
  },
  {
   "cell_type": "code",
   "execution_count": null,
   "metadata": {
    "ExecuteTime": {
     "end_time": "2020-04-07T14:17:01.898363Z",
     "start_time": "2020-04-07T14:17:01.880491Z"
    }
   },
   "outputs": [],
   "source": [
    "general = ReaderComposite()\n",
    "\n",
    "general.add(facebook)\n",
    "general.add(google)\n",
    "general.add(instagram)\n",
    "general.add(snapchat)\n",
    "general.add(swisscom)\n",
    "general.add(whatsapp)\n",
    "\n",
    "\n",
    "general.read()\n",
    "general.df.to_pickle('General_Dataframe.pkl')\n",
    "general.df"
   ]
  },
  {
   "cell_type": "markdown",
   "metadata": {},
   "source": [
    "## Locations"
   ]
  },
  {
   "cell_type": "markdown",
   "metadata": {},
   "source": [
    "### Google Photos"
   ]
  },
  {
   "cell_type": "code",
   "execution_count": null,
   "metadata": {},
   "outputs": [],
   "source": [
    "from Package.google_sub_readers.photoslocation import GooglePhotoLocationReader\n",
    "### NB: this code has to be changed a little bit if user lives or travels under latitude 40\n",
    "location_google = ReaderComposite()\n",
    "location_google.add(GooglePhotoLocationReader('Google_Photos/'))\n",
    "location_google.read()\n",
    "location_google.df.to_pickle('Google_location.pkl')\n",
    "location_google.df"
   ]
  },
  {
   "cell_type": "markdown",
   "metadata": {},
   "source": [
    "### Facebook"
   ]
  },
  {
   "cell_type": "code",
   "execution_count": null,
   "metadata": {},
   "outputs": [],
   "source": [
    "from Package.facebook_sub_readers.locationlocation import FacebookLocationLocationReader\n",
    "\n",
    "location_facebook = FacebookLocationLocationReader('location/location_history.json')\n",
    "location_facebook.read()\n",
    "location_facebook.df.to_pickle('Facebook_location.pkl')\n",
    "location_facebook.df"
   ]
  },
  {
   "cell_type": "markdown",
   "metadata": {},
   "source": [
    "### Snapchat"
   ]
  },
  {
   "cell_type": "code",
   "execution_count": null,
   "metadata": {},
   "outputs": [],
   "source": [
    "from Package.snapchat_sub_readers.location_snapchat import SnapchatLocationSnapchatReader\n",
    "\n",
    "location_snapchat = SnapchatLocationSnapchatReader('json/location_history.json')\n",
    "location_snapchat.read()\n",
    "location_snapchat.df.to_pickle('Snapchat_location.pkl')\n",
    "location_snapchat.df"
   ]
  }
 ],
 "metadata": {
  "kernelspec": {
   "display_name": "Python 3",
   "language": "python",
   "name": "python3"
  },
  "language_info": {
   "codemirror_mode": {
    "name": "ipython",
    "version": 3
   },
   "file_extension": ".py",
   "mimetype": "text/x-python",
   "name": "python",
   "nbconvert_exporter": "python",
   "pygments_lexer": "ipython3",
   "version": "3.7.7"
  },
  "toc": {
   "base_numbering": 1,
   "nav_menu": {},
   "number_sections": true,
   "sideBar": true,
   "skip_h1_title": false,
   "title_cell": "Table of Contents",
   "title_sidebar": "Contents",
   "toc_cell": false,
   "toc_position": {},
   "toc_section_display": true,
   "toc_window_display": false
  },
  "varInspector": {
   "cols": {
    "lenName": 16,
    "lenType": 16,
    "lenVar": 40
   },
   "kernels_config": {
    "python": {
     "delete_cmd_postfix": "",
     "delete_cmd_prefix": "del ",
     "library": "var_list.py",
     "varRefreshCmd": "print(var_dic_list())"
    },
    "r": {
     "delete_cmd_postfix": ") ",
     "delete_cmd_prefix": "rm(",
     "library": "var_list.r",
     "varRefreshCmd": "cat(var_dic_list()) "
    }
   },
   "types_to_exclude": [
    "module",
    "function",
    "builtin_function_or_method",
    "instance",
    "_Feature"
   ],
   "window_display": false
  }
 },
 "nbformat": 4,
 "nbformat_minor": 4
}
